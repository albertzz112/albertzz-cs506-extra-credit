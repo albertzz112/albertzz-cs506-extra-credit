{
 "cells": [
  {
   "cell_type": "code",
   "execution_count": 30,
   "metadata": {},
   "outputs": [],
   "source": [
    "import pandas as pd\n",
    "from catboost import CatBoostClassifier\n",
    "from sklearn.model_selection import train_test_split\n",
    "from sklearn.metrics import f1_score, classification_report"
   ]
  },
  {
   "cell_type": "code",
   "execution_count": 31,
   "metadata": {},
   "outputs": [],
   "source": [
    "# Load datasets\n",
    "train = pd.read_csv('data/train.csv')\n",
    "test = pd.read_csv('data/test.csv')\n",
    "sample_submission = pd.read_csv('data/sample_submission.csv')"
   ]
  },
  {
   "cell_type": "code",
   "execution_count": 32,
   "metadata": {},
   "outputs": [],
   "source": [
    "# Feature engineering\n",
    "# 1. Convert unix_time to hour (use modulo 24 to extract the hour)\n",
    "train['hour'] = pd.to_datetime(train['unix_time'], unit='s').dt.hour\n",
    "test['hour'] = pd.to_datetime(test['unix_time'], unit='s').dt.hour\n",
    "\n",
    "# 2. Combine first and last name into one feature\n",
    "train['full_name'] = train['first'] + ' ' + train['last']\n",
    "test['full_name'] = test['first'] + ' ' + test['last']\n",
    "\n",
    "# 3. Convert dob to age based on 2024 (current year)\n",
    "train['dob'] = pd.to_datetime(train['dob'], errors='coerce')\n",
    "test['dob'] = pd.to_datetime(test['dob'], errors='coerce')\n",
    "\n",
    "train['age'] = 2024 - train['dob'].dt.year\n",
    "test['age'] = 2024 - test['dob'].dt.year\n"
   ]
  },
  {
   "cell_type": "code",
   "execution_count": 33,
   "metadata": {},
   "outputs": [],
   "source": [
    "# Drop unnecessary columns\n",
    "drop_columns = ['trans_num', 'trans_date', 'trans_time', 'first', 'last', 'long', 'lat', 'merch_lat', 'merch_long']\n",
    "train.drop(columns=drop_columns, inplace=True)\n",
    "test.drop(columns=drop_columns, inplace=True)\n",
    "\n",
    "# Identify categorical features\n",
    "categorical_columns = ['category', 'gender', 'city', 'state', 'job', 'merchant', 'full_name', 'street']\n"
   ]
  },
  {
   "cell_type": "code",
   "execution_count": 34,
   "metadata": {},
   "outputs": [],
   "source": [
    "# Prepare the feature set and target variable\n",
    "X = train.drop(columns=['is_fraud'])\n",
    "y = train['is_fraud']\n",
    "X_test = test"
   ]
  },
  {
   "cell_type": "code",
   "execution_count": 35,
   "metadata": {},
   "outputs": [],
   "source": [
    "# Split train data into training and validation sets\n",
    "#X_train, X_val, y_train, y_val = train_test_split(X, y, test_size=0.2, random_state=42)"
   ]
  },
  {
   "cell_type": "code",
   "execution_count": 36,
   "metadata": {},
   "outputs": [
    {
     "name": "stdout",
     "output_type": "stream",
     "text": [
      "0:\tlearn: 0.1373031\ttotal: 538ms\tremaining: 44m 49s\n",
      "200:\tlearn: 0.0071388\ttotal: 1m 38s\tremaining: 39m 18s\n",
      "400:\tlearn: 0.0050773\ttotal: 3m 10s\tremaining: 36m 20s\n",
      "600:\tlearn: 0.0040147\ttotal: 4m 37s\tremaining: 33m 48s\n",
      "800:\tlearn: 0.0036021\ttotal: 5m 53s\tremaining: 30m 55s\n",
      "1000:\tlearn: 0.0032795\ttotal: 7m 8s\tremaining: 28m 32s\n",
      "1200:\tlearn: 0.0029315\ttotal: 8m 25s\tremaining: 26m 39s\n",
      "1400:\tlearn: 0.0026518\ttotal: 9m 43s\tremaining: 25m\n",
      "1600:\tlearn: 0.0025728\ttotal: 11m 1s\tremaining: 23m 24s\n",
      "1800:\tlearn: 0.0024187\ttotal: 12m 20s\tremaining: 21m 55s\n",
      "2000:\tlearn: 0.0023541\ttotal: 13m 33s\tremaining: 20m 18s\n",
      "2200:\tlearn: 0.0022444\ttotal: 14m 50s\tremaining: 18m 52s\n",
      "2400:\tlearn: 0.0022035\ttotal: 16m 4s\tremaining: 17m 24s\n",
      "2600:\tlearn: 0.0021467\ttotal: 17m 20s\tremaining: 15m 59s\n",
      "2800:\tlearn: 0.0021173\ttotal: 18m 41s\tremaining: 14m 40s\n",
      "3000:\tlearn: 0.0020932\ttotal: 20m\tremaining: 13m 19s\n",
      "3200:\tlearn: 0.0020817\ttotal: 21m 23s\tremaining: 12m 1s\n",
      "3400:\tlearn: 0.0020595\ttotal: 22m 43s\tremaining: 10m 40s\n",
      "3600:\tlearn: 0.0020439\ttotal: 23m 55s\tremaining: 9m 17s\n",
      "3800:\tlearn: 0.0019602\ttotal: 25m 14s\tremaining: 7m 57s\n",
      "4000:\tlearn: 0.0019411\ttotal: 26m 33s\tremaining: 6m 37s\n",
      "4200:\tlearn: 0.0018946\ttotal: 27m 59s\tremaining: 5m 19s\n",
      "4400:\tlearn: 0.0018676\ttotal: 29m 24s\tremaining: 4m\n",
      "4600:\tlearn: 0.0018132\ttotal: 30m 38s\tremaining: 2m 39s\n",
      "4800:\tlearn: 0.0017984\ttotal: 31m 58s\tremaining: 1m 19s\n",
      "4999:\tlearn: 0.0017827\ttotal: 33m 24s\tremaining: 0us\n"
     ]
    },
    {
     "data": {
      "text/plain": [
       "<catboost.core.CatBoostClassifier at 0x1afe47ff010>"
      ]
     },
     "execution_count": 36,
     "metadata": {},
     "output_type": "execute_result"
    }
   ],
   "source": [
    "# Initialize and train the CatBoost model\n",
    "model = CatBoostClassifier(iterations=5000, depth=6, learning_rate=0.7, loss_function='Logloss', verbose=200)\n",
    "\n",
    "# Pass the categorical feature indices\n",
    "cat_feature_indices = [X.columns.get_loc(col) for col in categorical_columns]\n",
    "\n",
    "# Train the model on the entire training dataset\n",
    "model.fit(X, y, cat_features=cat_feature_indices)\n"
   ]
  },
  {
   "cell_type": "code",
   "execution_count": 37,
   "metadata": {},
   "outputs": [],
   "source": [
    "# Make predictions on the validation set\n",
    "y_val_pred = model.predict(X_val)"
   ]
  },
  {
   "cell_type": "code",
   "execution_count": 38,
   "metadata": {},
   "outputs": [],
   "source": [
    "# Calculate the F1 score\n",
    "#f1 = f1_score(y_val, y_val_pred)\n",
    "#print(f'F1 Score on Validation Set: {f1}')\n",
    "\n",
    "# Show detailed classification report\n",
    "#print(\"Classification Report on Validation Set:\")\n",
    "#print(classification_report(y_val, y_val_pred))"
   ]
  },
  {
   "cell_type": "code",
   "execution_count": 39,
   "metadata": {},
   "outputs": [],
   "source": [
    "# Make predictions on the test set (for submission)\n",
    "y_test_pred = model.predict(X_test)"
   ]
  },
  {
   "cell_type": "code",
   "execution_count": 40,
   "metadata": {},
   "outputs": [],
   "source": [
    "submission = pd.DataFrame({\n",
    "    'id': sample_submission['id'],\n",
    "    'is_fraud': y_test_pred\n",
    "})"
   ]
  },
  {
   "cell_type": "code",
   "execution_count": 41,
   "metadata": {},
   "outputs": [
    {
     "name": "stdout",
     "output_type": "stream",
     "text": [
      "Submission file saved as submission.csv\n"
     ]
    }
   ],
   "source": [
    "# Save the submission file\n",
    "submission.to_csv('submission.csv', index=False)\n",
    "print(\"Submission file saved as submission.csv\")\n"
   ]
  }
 ],
 "metadata": {
  "kernelspec": {
   "display_name": "Python 3",
   "language": "python",
   "name": "python3"
  },
  "language_info": {
   "codemirror_mode": {
    "name": "ipython",
    "version": 3
   },
   "file_extension": ".py",
   "mimetype": "text/x-python",
   "name": "python",
   "nbconvert_exporter": "python",
   "pygments_lexer": "ipython3",
   "version": "3.11.9"
  }
 },
 "nbformat": 4,
 "nbformat_minor": 2
}
